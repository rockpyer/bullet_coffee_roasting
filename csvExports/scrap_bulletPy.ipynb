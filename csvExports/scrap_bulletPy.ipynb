{
 "cells": [
  {
   "cell_type": "code",
   "execution_count": null,
   "metadata": {},
   "outputs": [],
   "source": [
    "#### Data loading for Allio Bullet R1 V2 roaster https://aillio.com/?page_id=23112\n",
    "###### Coffee Roasting by Ryan @f.w.Bennies https://www.instagram.com/f.w.bennies/\n",
    "\n",
    "### Key Edits for you to run this = Lines 16-19 set to the bullet roast file location for your machine\n",
    "\n",
    "#################################################\n",
    "## open each .json in folder and append to df  ##\n",
    "#################################################\n",
    "\n",
    "from pathlib import Path\n",
    "import os\n",
    "import pandas as pd\n",
    "import json\n",
    "from datetime import datetime\n",
    "\n",
    "\n",
    "# Load from roasTime repository on macOS\n",
    "home = os.path.expanduser('~')\n",
    "base_path = os.path.join(home, 'Library/Application Support/roast-time/roasts')\n",
    "df = pd.DataFrame()\n",
    "\n",
    "for entry in os.listdir(base_path):\n",
    "    full_path =  Path('%s/%s' % (base_path, entry))\n",
    "    with full_path.open() as f:\n",
    "        data = json.loads(f.read())\n",
    "        df_load = pd.json_normalize(data)\n",
    "    df = df.append(df_load)\n",
    "df.sort_values(by='dateTime', inplace = True)\n",
    "df = df.reset_index()\n",
    "df = df.drop(columns = ['index'])\n",
    "\n",
    "# converting dataTime to useful format\n",
    "df['dateTime'] = pd.to_datetime(df['dateTime'],unit='ms')"
   ]
  }
 ],
 "metadata": {
  "kernelspec": {
   "display_name": "Python 3 (ipykernel)",
   "language": "python",
   "name": "python3"
  },
  "language_info": {
   "codemirror_mode": {
    "name": "ipython",
    "version": 3
   },
   "file_extension": ".py",
   "mimetype": "text/x-python",
   "name": "python",
   "nbconvert_exporter": "python",
   "pygments_lexer": "ipython3",
   "version": "3.9.13"
  }
 },
 "nbformat": 4,
 "nbformat_minor": 4
}
